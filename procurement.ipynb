{
 "cells": [
  {
   "cell_type": "code",
   "execution_count": 1,
   "id": "6d86fa93",
   "metadata": {},
   "outputs": [],
   "source": [
    "import yfinance as yf\n",
    "import pandas as pd\n",
    "import xlrd\n",
    "import cvxpy as cp\n",
    "import numpy as np\n",
    "import tqdm\n",
    "import logging\n",
    "import warnings"
   ]
  },
  {
   "cell_type": "markdown",
   "id": "7f802ffe",
   "metadata": {},
   "source": [
    "# Data Procurement"
   ]
  },
  {
   "cell_type": "markdown",
   "id": "3277918e",
   "metadata": {},
   "source": [
    "## Security Procurement and Filtering"
   ]
  },
  {
   "cell_type": "code",
   "execution_count": 3,
   "id": "f67fba51",
   "metadata": {},
   "outputs": [],
   "source": [
    "nasdaqlisted_df = pd.read_csv(\"ftp://ftp.nasdaqtrader.com/SymbolDirectory/nasdaqlisted.txt\", sep=\"|\")\n",
    "nasdaqlisted_df = nasdaqlisted_df[nasdaqlisted_df[\"Symbol\"] != \"File Creation Time: 1016202521:31\"]\n",
    "\n",
    "otherlisted_df = pd.read_csv(\"ftp://ftp.nasdaqtrader.com/SymbolDirectory/otherlisted.txt\", sep=\"|\")\n",
    "otherlisted_df = otherlisted_df[otherlisted_df[\"ACT Symbol\"] != \"File Creation Time: 1016202521:31\"]\n",
    "otherlisted_df[\"Symbol\"] = otherlisted_df[\"ACT Symbol\"]\n",
    "\n",
    "all_df = pd.concat([nasdaqlisted_df, otherlisted_df])\n",
    "all_df[\"Symbol\"] = all_df[\"Symbol\"].combine_first(all_df[\"ACT Symbol\"])\n",
    "all_df[\"Source\"] = np.where(all_df[\"Exchange\"].isna(), 'nasdaqlisted', 'otherlisted')"
   ]
  },
  {
   "cell_type": "markdown",
   "id": "05910c8f",
   "metadata": {},
   "source": [
    "### Filters based on nasdaqtrader.com Symbol Directory"
   ]
  },
  {
   "cell_type": "code",
   "execution_count": 62,
   "id": "e8482ea6",
   "metadata": {},
   "outputs": [],
   "source": [
    "exclusions_df = pd.DataFrame({col: pd.Series(dtype=nasdaqlisted_df[col].dtype) for col in nasdaqlisted_df.columns})\n",
    "exclusions_df[\"Reason\"] = pd.Series(dtype=\"object\")\n",
    "\n",
    "# Exclude securities that are Test Issues, ETFs, or don't have normal Financial Status according to nasdaqlisted.\n",
    "\n",
    "nasdaqlisted_reasons = [\"Test Issue\", \"ETF\", \"Financial Status\"]\n",
    "\n",
    "for reason in nasdaqlisted_reasons:\n",
    "    temp = nasdaqlisted_df[nasdaqlisted_df[reason] != \"N\"].copy()\n",
    "    temp.loc[:, \"Reason\"] = reason \n",
    "    exclusions_df = pd.concat(\n",
    "        [exclusions_df, temp], \n",
    "        ignore_index = True\n",
    "    )\n",
    "\n",
    "# Exclude missing symbols in nasdaqlisted\n",
    "\n",
    "temp = nasdaqlisted_df[nasdaqlisted_df[\"Symbol\"].isna()].copy()\n",
    "temp.loc[:, \"Reason\"] = \"Missing Symbol\"\n",
    "exclusions_df = pd.concat(\n",
    "    [exclusions_df, temp], \n",
    "    ignore_index = True\n",
    ")\n",
    "\n",
    "# Exclude securities that are Test Issues or ETFs according to otherlisted.\n",
    "\n",
    "otherlisted_reasons = [\"Test Issue\", \"ETF\"]\n",
    "\n",
    "for reason in otherlisted_reasons:\n",
    "    temp = otherlisted_df[otherlisted_df[reason] != \"N\"].copy()\n",
    "    temp.loc[:, \"Reason\"] = reason\n",
    "    exclusions_df = pd.concat(\n",
    "        [exclusions_df, temp], \n",
    "        ignore_index = True\n",
    "    )\n",
    "\n",
    "# Obtain included symbols\n",
    "\n",
    "inclusions_df = all_df[~all_df[\"Symbol\"].isin(exclusions_df[\"Symbol\"])]\n",
    "included_symbols = set(inclusions_df[\"Symbol\"])"
   ]
  },
  {
   "cell_type": "markdown",
   "id": "ac0a4300",
   "metadata": {},
   "source": [
    "### Filters based on yfinance data"
   ]
  },
  {
   "cell_type": "code",
   "execution_count": 31,
   "id": "43e8eac8",
   "metadata": {},
   "outputs": [
    {
     "name": "stderr",
     "output_type": "stream",
     "text": [
      " 43%|████▎     | 3004/6956 [26:22<16:31:20, 15.05s/it]"
     ]
    },
    {
     "name": "stdout",
     "output_type": "stream",
     "text": [
      "Error fetching data for ALZN: Failed to perform, curl: (28) Recv failure: Connection was reset. See https://curl.se/libcurl/c/libcurl-errors.html first for more details.\n"
     ]
    },
    {
     "name": "stderr",
     "output_type": "stream",
     "text": [
      " 82%|████████▏ | 5690/6956 [53:41<5:17:19, 15.04s/it] "
     ]
    },
    {
     "name": "stdout",
     "output_type": "stream",
     "text": [
      "Error fetching data for GCTS.W: Failed to perform, curl: (28) Recv failure: Connection was reset. See https://curl.se/libcurl/c/libcurl-errors.html first for more details.\n"
     ]
    },
    {
     "name": "stderr",
     "output_type": "stream",
     "text": [
      "100%|██████████| 6956/6956 [1:04:38<00:00,  1.79it/s]\n"
     ]
    }
   ],
   "source": [
    "# Fetch market cap and quote type from yfinance\n",
    "\n",
    "logging.getLogger(\"yfinance\").setLevel(logging.CRITICAL)\n",
    "warnings.filterwarnings(\"ignore\")\n",
    "\n",
    "country = {}\n",
    "market_cap = {}\n",
    "quote_type = {}\n",
    "\n",
    "error_symbols = []\n",
    "\n",
    "for symbol in tqdm.tqdm(included_symbols):\n",
    "    try:\n",
    "        info = yf.Ticker(symbol).info\n",
    "        \n",
    "        country[symbol] = info.get(\"country\")\n",
    "        market_cap[symbol] = info.get(\"marketCap\")\n",
    "        quote_type[symbol] = info.get(\"quoteType\")\n",
    "\n",
    "    except Exception as e:\n",
    "        print(f\"Error fetching data for {symbol}: {e}\")\n",
    "        error_symbols.append(symbol)"
   ]
  },
  {
   "cell_type": "code",
   "execution_count": 32,
   "id": "e0e4daa4",
   "metadata": {},
   "outputs": [
    {
     "name": "stderr",
     "output_type": "stream",
     "text": [
      "100%|██████████| 2/2 [00:01<00:00,  1.62it/s]\n"
     ]
    }
   ],
   "source": [
    "# Retry for symbols that raised errors\n",
    "\n",
    "for symbol in tqdm.tqdm(error_symbols):\n",
    "    try:\n",
    "        info = yf.Ticker(symbol).info\n",
    "        \n",
    "        country[symbol] = info.get(\"country\")\n",
    "        market_cap[symbol] = info.get(\"marketCap\")\n",
    "        quote_type[symbol] = info.get(\"quoteType\")\n",
    "\n",
    "    except Exception as e:\n",
    "        print(f\"Error fetching data for {symbol}: {e}\")"
   ]
  },
  {
   "cell_type": "code",
   "execution_count": 63,
   "id": "9dec8a18",
   "metadata": {},
   "outputs": [],
   "source": [
    "# Add fetched data to inclusions_df\n",
    "\n",
    "output_df = pd.DataFrame({\n",
    "    \"Country\": country,\n",
    "    \"Market Cap\": market_cap,\n",
    "    \"Quote Type\": quote_type,\n",
    "})\n",
    "output_df = output_df.reset_index().rename(columns = {\"index\" : \"Symbol\"})\n",
    "output_df.to_parquet(\"data/processed/yfinance_output.parquet\", engine = \"fastparquet\") # External saving in case of catastrophe\n",
    "\n",
    "inclusions_df = inclusions_df.merge(output_df, on='Symbol', how='left')"
   ]
  },
  {
   "cell_type": "code",
   "execution_count": 64,
   "id": "6dc68555",
   "metadata": {},
   "outputs": [],
   "source": [
    "# Exclude securities that are not listed as EQUITY on yfinance\n",
    "\n",
    "temp = inclusions_df[inclusions_df[\"Quote Type\"] != \"EQUITY\"].copy()\n",
    "temp.loc[:, \"Reason\"] = \"Not Equity\"\n",
    "exclusions_df = pd.concat(\n",
    "    [exclusions_df, temp], \n",
    "    ignore_index = True\n",
    ")\n",
    "\n",
    "inclusions_df = inclusions_df[~inclusions_df[\"Symbol\"].isin(exclusions_df[\"Symbol\"])]\n",
    "\n",
    "# Exclude securities that have no listed market cap on yfinance\n",
    "\n",
    "temp = inclusions_df[inclusions_df[\"Market Cap\"].isna()].copy()\n",
    "temp.loc[:, \"Reason\"] = \"No Market Cap\"\n",
    "exclusions_df = pd.concat(\n",
    "    [exclusions_df, temp], \n",
    "    ignore_index = True\n",
    ")\n",
    "\n",
    "inclusions_df = inclusions_df[~inclusions_df[\"Symbol\"].isin(exclusions_df[\"Symbol\"])]\n",
    "\n",
    "# Exclude securities not in the US (for US index replication)\n",
    "\n",
    "temp = inclusions_df[inclusions_df[\"Country\"] != \"United States\"].copy()\n",
    "temp.loc[:, \"Reason\"] = \"Not United States\"\n",
    "exclusions_df = pd.concat(\n",
    "    [exclusions_df, temp], \n",
    "    ignore_index = True\n",
    ")\n",
    "\n",
    "inclusions_df = inclusions_df[~inclusions_df[\"Symbol\"].isin(exclusions_df[\"Symbol\"])]"
   ]
  },
  {
   "cell_type": "markdown",
   "id": "401a7260",
   "metadata": {},
   "source": [
    "### Filters based on name filtering\n",
    "\n",
    "Nasdaqlisted securities follow the convention Name - Description. Regex matching is used on the description to identify and filter out keywords (units, fund, depositary)."
   ]
  },
  {
   "cell_type": "code",
   "execution_count": 65,
   "id": "133fddda",
   "metadata": {},
   "outputs": [],
   "source": [
    "# Exclude units, funds and depositary shares\n",
    "\n",
    "keywords = [\"Unit\", \"Units\", \"Fund\", \"Depositary\", \"Warrant\"]\n",
    "\n",
    "for keyword in keywords:\n",
    "    temp = inclusions_df[inclusions_df[\"Security Name\"].str.split(\" - \", n=1, expand=True)[1].fillna(\"\").str.contains(rf\"\\b({keyword})\\b\", case=False, regex=True)]\n",
    "    temp.loc[:, \"Reason\"] = f\"Keyword found: {keyword}\"\n",
    "    exclusions_df = pd.concat(\n",
    "        [exclusions_df, temp], \n",
    "        ignore_index = True\n",
    "    )\n",
    "    inclusions_df = inclusions_df[~inclusions_df[\"Symbol\"].isin(exclusions_df[\"Symbol\"])]"
   ]
  },
  {
   "cell_type": "code",
   "execution_count": 66,
   "id": "236454db",
   "metadata": {},
   "outputs": [
    {
     "name": "stdout",
     "output_type": "stream",
     "text": [
      "All securities: 11882\n",
      "Excluded securities: 7600\n",
      "Included securities: 4294\n",
      "\n",
      "Exclusion reasons:\n",
      " Reason\n",
      "ETF                          4591\n",
      "Not United States            1317\n",
      "No Market Cap                 747\n",
      "Not Equity                    522\n",
      "Financial Status              310\n",
      "Test Issue                     36\n",
      "Keyword found: Fund            31\n",
      "Keyword found: Unit            15\n",
      "Keyword found: Depositary      13\n",
      "Keyword found: Units           13\n",
      "Keyword found: Warrant          4\n",
      "Missing Symbol                  1\n",
      "Name: count, dtype: int64\n"
     ]
    }
   ],
   "source": [
    "# Final filtering results\n",
    "\n",
    "print(\"All securities:\", all_df.shape[0])\n",
    "print(\"Excluded securities:\", exclusions_df.shape[0])\n",
    "print(\"Included securities:\", inclusions_df.shape[0])\n",
    "print(\"\\nExclusion reasons:\\n\", exclusions_df[\"Reason\"].value_counts())"
   ]
  },
  {
   "cell_type": "code",
   "execution_count": 67,
   "id": "d95b3c52",
   "metadata": {},
   "outputs": [],
   "source": [
    "# Export filtering results for future reference\n",
    "\n",
    "exclusions_df[\"Source\"] = np.where(exclusions_df[\"Exchange\"].isna(), 'nasdaqlisted', 'otherlisted') # Fill missing sources values\n",
    "\n",
    "exclusions_df.to_parquet(\"data/processed/exclusions.parquet\", engine = \"fastparquet\")\n",
    "inclusions_df.to_parquet(\"data/processed/inclusions.parquet\", engine = \"fastparquet\")"
   ]
  },
  {
   "cell_type": "code",
   "execution_count": 2,
   "id": "47b00487",
   "metadata": {},
   "outputs": [],
   "source": [
    "inclusions_df = pd.read_parquet(\"data/processed/inclusions.parquet\", engine = \"fastparquet\")"
   ]
  },
  {
   "cell_type": "markdown",
   "id": "52282491",
   "metadata": {},
   "source": [
    "## Daily Price Procurement"
   ]
  },
  {
   "cell_type": "code",
   "execution_count": 4,
   "id": "996c8aea",
   "metadata": {},
   "outputs": [
    {
     "name": "stderr",
     "output_type": "stream",
     "text": [
      "[*********************100%***********************]  4294 of 4294 completed\n",
      "\n",
      "8 Failed downloads:\n",
      "['MLACR', 'BKHAR', 'HVIIR', 'MAYAR', 'DMAAR']: YFPricesMissingError('possibly delisted; no price data found  (1d 2021-10-08 -> 2025-10-08)')\n",
      "['ALH']: YFRateLimitError('Too Many Requests. Rate limited. Try after a while.')\n",
      "['TLNC', 'TTRX']: YFPricesMissingError('possibly delisted; no price data found  (1d 2021-10-08 -> 2025-10-08) (Yahoo error = \"Data doesn\\'t exist for startDate = 1633665600, endDate = 1759896000\")')\n"
     ]
    }
   ],
   "source": [
    "# Fetch daily price history from yahoo finance\n",
    "\n",
    "included_symbols = set(inclusions_df[\"Symbol\"])\n",
    "daily_df = yf.download(\n",
    "    tickers=included_symbols,\n",
    "    start=\"2021-10-08\",\n",
    "    end=\"2025-10-08\",\n",
    "    interval=\"1d\",\n",
    "    group_by='ticker',\n",
    "    auto_adjust=True,\n",
    "    progress=True,\n",
    "    threads=False\n",
    ")"
   ]
  },
  {
   "cell_type": "code",
   "execution_count": 11,
   "id": "7e28c3e8",
   "metadata": {},
   "outputs": [],
   "source": [
    "# Export with date as column, keeping only close for efficiency\n",
    "daily_df = daily_df[[col for col in daily_df.columns if col[1] == 'Close']]\n",
    "daily_df = daily_df.reset_index()\n",
    "daily_df.to_parquet(\"data/processed/daily_data.parquet\", engine=\"fastparquet\")"
   ]
  }
 ],
 "metadata": {
  "kernelspec": {
   "display_name": "IndexReplication",
   "language": "python",
   "name": "python3"
  },
  "language_info": {
   "codemirror_mode": {
    "name": "ipython",
    "version": 3
   },
   "file_extension": ".py",
   "mimetype": "text/x-python",
   "name": "python",
   "nbconvert_exporter": "python",
   "pygments_lexer": "ipython3",
   "version": "3.12.11"
  }
 },
 "nbformat": 4,
 "nbformat_minor": 5
}
